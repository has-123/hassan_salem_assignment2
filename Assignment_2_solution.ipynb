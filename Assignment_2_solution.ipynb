{
  "cells": [
    {
      "cell_type": "markdown",
      "metadata": {
        "collapsed": true,
        "id": "Y7qHDyEwy_38"
      },
      "source": [
        "# Assignment 2\n",
        "Let's test your knowledge!"
      ]
    },
    {
      "cell_type": "markdown",
      "metadata": {
        "id": "K3Afylj8y_4G"
      },
      "source": [
        "_____\n",
        "**Use <code>for</code>, .split(), and <code>if</code> to create a Statement that will print out words that start with 's':**"
      ]
    },
    {
      "cell_type": "code",
      "execution_count": 1,
      "metadata": {
        "id": "oslKWx3Ty_4H"
      },
      "outputs": [],
      "source": [
        "st = 'Print only the words that start with s in this sentence'"
      ]
    },
    {
      "cell_type": "code",
      "execution_count": 22,
      "metadata": {
        "colab": {
          "base_uri": "https://localhost:8080/"
        },
        "id": "0Ix1ApZJy_4K",
        "outputId": "3401cbbc-03bf-4e40-b990-cda801e89224"
      },
      "outputs": [
        {
          "output_type": "stream",
          "name": "stdout",
          "text": [
            "start\n",
            "s\n",
            "sentence\n"
          ]
        }
      ],
      "source": [
        "#Code here\n",
        "list = st.split()\n",
        "for i in list :\n",
        "  if( i[0] == 's' ):\n",
        "    print(i[:])\n"
      ]
    },
    {
      "cell_type": "markdown",
      "metadata": {
        "id": "CvGIYd2Qy_4M"
      },
      "source": [
        "______\n",
        "**Use range() to print all the even numbers from 0 to 10.**"
      ]
    },
    {
      "cell_type": "code",
      "execution_count": 23,
      "metadata": {
        "colab": {
          "base_uri": "https://localhost:8080/"
        },
        "id": "yhzObVaSy_4V",
        "outputId": "d6d511c4-e435-4af6-e737-7d1e2468c326"
      },
      "outputs": [
        {
          "output_type": "stream",
          "name": "stdout",
          "text": [
            "0\n",
            "2\n",
            "4\n",
            "6\n",
            "8\n",
            "10\n"
          ]
        }
      ],
      "source": [
        "for i in range(11):\n",
        "  if i % 2 == 0:\n",
        "    print(i)"
      ]
    },
    {
      "cell_type": "markdown",
      "metadata": {
        "id": "x4PFPVuuy_4W"
      },
      "source": [
        "___\n",
        "**Use a List Comprehension to create a list of all numbers between 1 and 50 that are divisible by 3.**"
      ]
    },
    {
      "cell_type": "code",
      "execution_count": 35,
      "metadata": {
        "colab": {
          "base_uri": "https://localhost:8080/"
        },
        "id": "igoOBYEfy_4X",
        "outputId": "eaeec3ed-eeef-4e86-bd76-d90ab1c5d70a"
      },
      "outputs": [
        {
          "output_type": "stream",
          "name": "stdout",
          "text": [
            "[3, 6, 9, 12, 15, 18, 21, 24, 27, 30, 33, 36, 39, 42, 45, 48]\n"
          ]
        }
      ],
      "source": [
        "#Code Here\n",
        "mylist = [i for i in range(1 , 51) if i % 3 == 0]\n",
        "print(mylist)"
      ]
    },
    {
      "cell_type": "markdown",
      "metadata": {
        "id": "YQWZ-ncBy_4Z"
      },
      "source": [
        "_____\n",
        "**Go through the string below and if the length of a word is even print \"even!\"**"
      ]
    },
    {
      "cell_type": "code",
      "execution_count": null,
      "metadata": {
        "id": "5ZjVsBHUy_4a"
      },
      "outputs": [],
      "source": [
        "st = 'Print every word in this sentence that has an even number of letters'"
      ]
    },
    {
      "cell_type": "code",
      "execution_count": 37,
      "metadata": {
        "colab": {
          "base_uri": "https://localhost:8080/"
        },
        "id": "8v4gVLEqy_4b",
        "outputId": "fc83e923-c24d-42be-df8e-2c9bfd427f01"
      },
      "outputs": [
        {
          "output_type": "stream",
          "name": "stdout",
          "text": [
            "only\n",
            "that\n",
            "with\n",
            "in\n",
            "this\n",
            "sentence\n"
          ]
        }
      ],
      "source": [
        "#Code in this cell\n",
        "list = st.split()\n",
        "for i in list :\n",
        "  if( len(i)%2 == 0):\n",
        "   print(i)\n"
      ]
    },
    {
      "cell_type": "markdown",
      "metadata": {
        "id": "jKOcobfzy_4c"
      },
      "source": [
        "____\n",
        "**Write a program that prints the integers from 1 to 100. But for multiples of three print \"Fizz\" instead of the number, and for the multiples of five print \"Buzz\". For numbers which are multiples of both three and five print \"FizzBuzz\".**"
      ]
    },
    {
      "cell_type": "code",
      "execution_count": 39,
      "metadata": {
        "colab": {
          "base_uri": "https://localhost:8080/"
        },
        "id": "GNtHPfpmy_4d",
        "outputId": "14837e3f-75fd-4d89-b914-5ef2b4b2416d"
      },
      "outputs": [
        {
          "output_type": "stream",
          "name": "stdout",
          "text": [
            "Fizz\n",
            "Bizz\n",
            "Fizz\n",
            "Fizz\n",
            "Bizz\n",
            "Fizz\n",
            "FizzBuzz\n",
            "Fizz\n",
            "Bizz\n",
            "Fizz\n",
            "Fizz\n",
            "Bizz\n",
            "Fizz\n",
            "FizzBuzz\n",
            "Fizz\n",
            "Bizz\n",
            "Fizz\n",
            "Fizz\n",
            "Bizz\n",
            "Fizz\n",
            "FizzBuzz\n",
            "Fizz\n",
            "Bizz\n",
            "Fizz\n",
            "Fizz\n",
            "Bizz\n",
            "Fizz\n",
            "FizzBuzz\n",
            "Fizz\n",
            "Bizz\n",
            "Fizz\n",
            "Fizz\n",
            "Bizz\n",
            "Fizz\n",
            "FizzBuzz\n",
            "Fizz\n",
            "Bizz\n",
            "Fizz\n",
            "Fizz\n",
            "Bizz\n",
            "Fizz\n",
            "FizzBuzz\n",
            "Fizz\n",
            "Bizz\n",
            "Fizz\n",
            "Fizz\n",
            "Bizz\n"
          ]
        }
      ],
      "source": [
        "#Code in this cell\n",
        "for i in range(1, 101):\n",
        "  if (i % 3 == 0 ) and (i % 5 == 0):\n",
        "    print(\"FizzBuzz\")\n",
        "  elif (i % 3 == 0 ):\n",
        "          print(\"Fizz\")\n",
        "  elif (i % 5 == 0 ):\n",
        "          print(\"Bizz\")     \n",
        "\n"
      ]
    },
    {
      "cell_type": "markdown",
      "metadata": {
        "id": "-KLOR79Ly_4e"
      },
      "source": [
        "____\n",
        "**Use List Comprehension to create a list of the first letters of every word in the string below:**"
      ]
    },
    {
      "cell_type": "code",
      "execution_count": 40,
      "metadata": {
        "id": "_0zBs-Lmy_4f"
      },
      "outputs": [],
      "source": [
        "st = 'Create a list of the first letters of every word in this string'"
      ]
    },
    {
      "cell_type": "code",
      "execution_count": 48,
      "metadata": {
        "colab": {
          "base_uri": "https://localhost:8080/"
        },
        "id": "JQOIsTrFy_4g",
        "outputId": "f57b48d7-22f2-45ca-ae2f-92db027c5b51"
      },
      "outputs": [
        {
          "output_type": "stream",
          "name": "stdout",
          "text": [
            "['C', 'a', 'l', 'o', 't', 'f', 'l', 'o', 'e', 'w', 'i', 't', 's']\n"
          ]
        }
      ],
      "source": [
        "#Code in this cell\n",
        "list = st.split()\n",
        "mylist = [i[0] for i in list] \n",
        "print(mylist)"
      ]
    },
    {
      "cell_type": "markdown",
      "metadata": {
        "id": "U3-jgv9iy_4g"
      },
      "source": [
        "### Great Job!"
      ]
    }
  ],
  "metadata": {
    "kernelspec": {
      "display_name": "Python 3",
      "language": "python",
      "name": "python3"
    },
    "language_info": {
      "codemirror_mode": {
        "name": "ipython",
        "version": 3
      },
      "file_extension": ".py",
      "mimetype": "text/x-python",
      "name": "python",
      "nbconvert_exporter": "python",
      "pygments_lexer": "ipython3",
      "version": "3.8.5"
    },
    "colab": {
      "name": "Assignment 2.ipynb",
      "provenance": [],
      "collapsed_sections": []
    }
  },
  "nbformat": 4,
  "nbformat_minor": 0
}